{
  "nbformat": 4,
  "nbformat_minor": 0,
  "metadata": {
    "colab": {
      "provenance": []
    },
    "kernelspec": {
      "name": "python3",
      "display_name": "Python 3"
    },
    "language_info": {
      "name": "python"
    }
  },
  "cells": [
    {
      "cell_type": "code",
      "source": [
        "'''Encapsulamiento de todos las atributos de mi clase'''\n",
        "class Persona:\n",
        "  def __init__(self, nombre, apellido, edad):\n",
        "    self._nombre=nombre #Se le agrega un guión bajo para decir que lo encapsule\n",
        "    self._apellido=apellido\n",
        "    self._edad=edad\n",
        "\n",
        "  #Un decorador modifica el comportamiento de nuestro método\n",
        "  #Método GET\n",
        "  @property #Permite acceder al método como si llamara al atributo\n",
        "  def nombre(self):\n",
        "    print('Llamando método GET nombre')\n",
        "    return self._nombre\n",
        "\n",
        "  #Método SET\n",
        "  @nombre.setter #Decorador para poder modificar el atributo del nombre\n",
        "  def nombre(self, nombre):\n",
        "    print('Llamando método SET nombre')\n",
        "    self._nombre=nombre\n",
        "\n",
        "  #Metodo GET\n",
        "  @property\n",
        "  def apellido(self):\n",
        "    print(\"Llamando método GET apellido\")\n",
        "    return self._apellido\n",
        "\n",
        "  #Método SET\n",
        "  @apellido.setter\n",
        "  def apellido(self, apellido):\n",
        "    print(\"LLamando método SET apellido\")\n",
        "    self._apellido=apellido\n",
        "\n",
        "  #Método GET\n",
        "  @property\n",
        "  def edad(self):\n",
        "    print(\"Llamando método GET edad\")\n",
        "    return self._edad\n",
        "\n",
        "  #Método SET\n",
        "  @edad.setter\n",
        "  def edad(self, edad):\n",
        "    print(\"Llamando método SET edad\")\n",
        "    self._edad=edad\n",
        "\n",
        "  def mostrar_detalle(self):\n",
        "    print(f'Persona: {self._nombre}, {self._apellido} {self._edad}')\n",
        "\n",
        "  def __str__(self): #Permitirá imprimir todos los detalles de un objeto de esta clase haciendo print(persona1)\n",
        "    return f'Persona: {self._nombre} {self._apellido} {self._edad}'\n",
        "\n",
        "  def __del__(self):\n",
        "    print(f'Persona: {self._nombre} {self._apellido} eliminado')\n",
        "\n",
        "persona1=Persona('José', 'Olmedo', 23)\n",
        "persona1.nombre='Marco Isaac'#Así podemos modificar el atributo \"nombre\" empleando un método que permite acceder al atributo\n",
        "print('\\n')\n",
        "\n",
        "persona1.apellido='Olmedo Guevara'\n",
        "persona1.edad=30\n",
        "persona1.mostrar_detalle()"
      ],
      "metadata": {
        "id": "MUEUQ5GWulmU",
        "colab": {
          "base_uri": "https://localhost:8080/"
        },
        "outputId": "128091d8-afd0-4358-a7d4-b32e919570a4"
      },
      "execution_count": null,
      "outputs": [
        {
          "output_type": "stream",
          "name": "stdout",
          "text": [
            "Llamando método SET nombre\n",
            "\n",
            "\n",
            "LLamando método SET apellido\n",
            "Llamando método SET edad\n",
            "Persona: Marco Isaac, Olmedo Guevara 30\n"
          ]
        }
      ]
    },
    {
      "cell_type": "code",
      "source": [
        "#Generación de una clase 'hija'\n",
        "'''Todas las clases hasta que se especifique lo contrario heredan de la clase 'object'\n",
        "por ejemplo podemos o no poner esto: class Persona(object)'''\n",
        "\n",
        "'''super(). es un método que me permite acceder a los atributos de la clase padre'''\n",
        "\n",
        "class Empleado(Persona):\n",
        "\n",
        "  def __init__(self,nombre, apellido, edad, sueldo):\n",
        "\n",
        "    super().__init__(nombre, apellido, edad)\n",
        "    self._sueldo=sueldo\n",
        "\n",
        "  @property\n",
        "  def sueldo(self):\n",
        "    print(\"Llamando método GET sueldo\")\n",
        "    return self._sueldo\n",
        "\n",
        "  @sueldo.setter\n",
        "  def sueldo(self, sueldo):\n",
        "    print(\"Llamando método SET sueldo\")\n",
        "    self._sueldo=sueldo\n",
        "\n",
        "  def __str__(self):\n",
        "    return f'Empleado: {super().__str__()} Sueldo: {self._sueldo}'\n",
        "\n",
        "\n",
        "empleado1=Empleado('José','Olmedo', 23, 50000)\n",
        "print(empleado1.nombre)\n",
        "print(empleado1.apellido)\n",
        "print(empleado1.edad)\n",
        "print(empleado1.sueldo)\n"
      ],
      "metadata": {
        "colab": {
          "base_uri": "https://localhost:8080/"
        },
        "id": "zCercE2G0Zkq",
        "outputId": "3fe0a9db-e2cf-45de-94e5-1dc4c5082803"
      },
      "execution_count": null,
      "outputs": [
        {
          "output_type": "stream",
          "name": "stdout",
          "text": [
            "Llamando método GET nombre\n",
            "José\n",
            "Llamando método GET apellido\n",
            "Olmedo\n",
            "Llamando método GET edad\n",
            "23\n",
            "Llamando método GET sueldo\n",
            "50000\n"
          ]
        }
      ]
    },
    {
      "cell_type": "code",
      "source": [
        "print(persona1) #Esto es posible gracias a la sobreescritura del método __str__\n",
        "print(empleado1) #Se hereda de la clase Persona\n"
      ],
      "metadata": {
        "id": "pPOKC3z3zFtf",
        "colab": {
          "base_uri": "https://localhost:8080/"
        },
        "outputId": "0feca2a8-1066-4572-d493-80263b899bbf"
      },
      "execution_count": null,
      "outputs": [
        {
          "output_type": "stream",
          "name": "stdout",
          "text": [
            "Persona: Marco Isaac Olmedo Guevara 30\n",
            "Empleado: Persona: José Olmedo 23 Sueldo: 50000\n"
          ]
        }
      ]
    },
    {
      "cell_type": "markdown",
      "source": [
        "Ejercicio de generar una clase vehículo y dos clases hijas.\n"
      ],
      "metadata": {
        "id": "lwKBQh-gK7vK"
      }
    },
    {
      "cell_type": "code",
      "source": [
        "class Vehiculo:\n",
        "\n",
        "  def __init__(self, color, ruedas):\n",
        "    self._color=color\n",
        "    self._ruedas=ruedas\n",
        "\n",
        "  def __str__(self): #Notese que al llamar a un objeto de esta clase con print(), __str__ hace acto de presencia\n",
        "    return f'Color: {self._color}, Ruedas: {self._ruedas}'\n",
        "\n",
        "\n",
        "class Coche(Vehiculo):\n",
        "\n",
        "  def __init__(self,color, ruedas, velocidad): #Inicializar objeto con TODOS esos atributos\n",
        "    super().__init__(color, ruedas) #Solo los atributos que hereda\n",
        "    self._velocidad=velocidad\n",
        "\n",
        "  def __str__(self): #Notese que al llamar a un objeto de esta clase con print(), __str__ hace acto de presencia\n",
        "    return f'Coche de {super().__str__()}, Velocidad: {self._velocidad} km/h'\n",
        "\n",
        "class Bicicleta(Vehiculo):\n",
        "\n",
        "  def __init__(self, color, ruedas, tipo): #Inicializar objeto con TODOS esos atributos\n",
        "    super().__init__(color, ruedas) #Solo los atributos que hereda\n",
        "    self._tipo=tipo\n",
        "\n",
        "  def __str__(self): #Notese que al llamar a un objeto de esta clase con print(), __str__ hace acto de presencia\n",
        "    return f'Bicicleta de {super().__str__()}, de tipo: {self._tipo}'\n",
        "\n",
        "\n",
        "vehiculo1=Vehiculo('Verde',3)\n",
        "coche1=Coche('Azul', 4, 200)\n",
        "bicicleta1=Bicicleta('Rojo', 2, 'Montaña')\n",
        "\n",
        "print(vehiculo1)\n",
        "print(coche1)\n",
        "print(bicicleta1)"
      ],
      "metadata": {
        "colab": {
          "base_uri": "https://localhost:8080/"
        },
        "id": "ydOuI-OUERNP",
        "outputId": "77ac38bf-da48-43eb-956f-e2af8ba96ca4"
      },
      "execution_count": null,
      "outputs": [
        {
          "output_type": "stream",
          "name": "stdout",
          "text": [
            "Color: Verde, Ruedas: 3\n",
            "Coche de Color: Azul, Ruedas: 4, Velocidad: 200 km/h\n",
            "Bicicleta de Color: Rojo, Ruedas: 2, de tipo: Montaña\n"
          ]
        }
      ]
    },
    {
      "cell_type": "code",
      "source": [],
      "metadata": {
        "id": "0747W6qKKJqv"
      },
      "execution_count": null,
      "outputs": []
    }
  ]
}
{
  "nbformat": 4,
  "nbformat_minor": 0,
  "metadata": {
    "colab": {
      "provenance": []
    },
    "kernelspec": {
      "name": "python3",
      "display_name": "Python 3"
    },
    "language_info": {
      "name": "python"
    }
  },
  "cells": [
    {
      "cell_type": "code",
      "source": [
        "'''Restringir un atributo de nuestra clase'''\n",
        "class Persona:\n",
        "  def __init__(self, nombre, apellido, edad):\n",
        "    self.__nombre=nombre #Se le agrega un doble guión bajo\n",
        "    #Si sólo se le pusiera un guión, sería una buena práctica para sugerir que no se modifique\n",
        "    self.apellido=apellido\n",
        "    self.edad=edad\n",
        "\n",
        "  def mostrar_detalle(self):\n",
        "    print(f'Persona: {self.__nombre}, {self.apellido} {self.edad}')\n",
        "\n",
        "persona1=Persona('José', 'Olmedo', 23)\n",
        "persona1.__nombre='Marco Isaac'  #No marca error, pero está protegido y no se puede cambiar, solo internamente en la clase\n",
        "persona1.mostrar_detalle()"
      ],
      "metadata": {
        "colab": {
          "base_uri": "https://localhost:8080/"
        },
        "id": "HtHgyJz9h7E8",
        "outputId": "3f8a6233-f74c-4be5-9d2a-e6c08ca90536"
      },
      "execution_count": null,
      "outputs": [
        {
          "output_type": "stream",
          "name": "stdout",
          "text": [
            "Persona: José, Olmedo 23\n"
          ]
        }
      ]
    },
    {
      "cell_type": "code",
      "source": [
        "'''PROTEGER o RESTRINGIR FUERTEMENTE un atributo de nuestra clase'''\n",
        "class Persona:\n",
        "  def __init__(self, nombre, apellido, edad):\n",
        "    self._nombre=nombre #Se le agrega un guión bajo\n",
        "    self.apellido=apellido\n",
        "    self.edad=edad\n",
        "\n",
        "  #Un decorador modifica el comportamiento de nuestro método\n",
        "  #Método GET\n",
        "  @property #Permite acceder al método como si llamara al atributo\n",
        "  def nombre(self):\n",
        "    print('Llamando método GET nombre')\n",
        "    return self._nombre\n",
        "\n",
        "  #Método SET\n",
        "  @nombre.setter #Decorador para poder modificar el atributo del nombre\n",
        "  def nombre(self, nombre):\n",
        "    print('Llamando método SET nombre')\n",
        "    self._nombre=nombre\n",
        "\n",
        "  def mostrar_detalle(self):\n",
        "    print(f'Persona: {self._nombre}, {self.apellido} {self.edad}')\n",
        "\n",
        "persona1=Persona('José', 'Olmedo', 23)\n",
        "persona1.nombre # Ya no es necesario poner parentesis porque accedo a ella como si fuera un atributo, cuando en realidad accedo al método\n",
        "print('\\n')\n",
        "persona1.nombre='Marco Isaac'#Así podemos modificar el atributo \"nombre\" empleando un método que permite acceder al atributo\n",
        "print(persona1.nombre)"
      ],
      "metadata": {
        "colab": {
          "base_uri": "https://localhost:8080/"
        },
        "id": "nCVTTXHRm6wy",
        "outputId": "5abbb1f1-92d6-44c6-9550-21036cdae48b"
      },
      "execution_count": null,
      "outputs": [
        {
          "output_type": "stream",
          "name": "stdout",
          "text": [
            "Llamando método GET nombre\n",
            "\n",
            "\n",
            "Llamando método SET nombre\n",
            "Llamando método GET nombre\n",
            "Marco Isaac\n"
          ]
        }
      ]
    },
    {
      "cell_type": "code",
      "source": [
        "'''Encapsulamiento de todos las atributos de mi clase'''\n",
        "class Persona:\n",
        "  def __init__(self, nombre, apellido, edad):\n",
        "    self._nombre=nombre #Se le agrega un guión bajo para decir que lo encapsule\n",
        "    self._apellido=apellido\n",
        "    self._edad=edad\n",
        "\n",
        "  #Un decorador modifica el comportamiento de nuestro método\n",
        "  #Método GET\n",
        "  @property #Permite acceder al método como si llamara al atributo\n",
        "  def nombre(self):\n",
        "    print('Llamando método GET nombre')\n",
        "    return self._nombre\n",
        "\n",
        "  #Método SET\n",
        "  @nombre.setter #Decorador para poder modificar el atributo del nombre\n",
        "  def nombre(self, nombre):\n",
        "    print('Llamando método SET nombre')\n",
        "    self._nombre=nombre\n",
        "\n",
        "  #Metodo GET\n",
        "  @property\n",
        "  def apellido(self):\n",
        "    print(\"Llamando método GET apellido\")\n",
        "    return self._apellido\n",
        "\n",
        "  #Método SET\n",
        "  @apellido.setter\n",
        "  def apellido(self, apellido):\n",
        "    print(\"LLamando método SET apellido\")\n",
        "    self._apellido=apellido\n",
        "\n",
        "  #Método GET\n",
        "  @property\n",
        "  def edad(self):\n",
        "    print(\"Llamando método GET edad\")\n",
        "    return self._edad\n",
        "\n",
        "  #Método SET\n",
        "  @edad.setter\n",
        "  def edad(self, edad):\n",
        "    print(\"Llamando método SET edad\")\n",
        "    self._edad=edad\n",
        "\n",
        "  def mostrar_detalle(self):\n",
        "    print(f'Persona: {self._nombre}, {self._apellido} {self._edad}')\n",
        "\n",
        "  def __del__(self):\n",
        "    print(f'Persona: {self._nombre} {self._apellido} eliminado')\n",
        "\n",
        "persona1=Persona('José', 'Olmedo', 23)\n",
        "persona1.nombre='Marco Isaac'#Así podemos modificar el atributo \"nombre\" empleando un método que permite acceder al atributo\n",
        "print('\\n')\n",
        "\n",
        "persona1.apellido='Olmedo Guevara'\n",
        "persona1.edad=30\n",
        "persona1.mostrar_detalle()"
      ],
      "metadata": {
        "id": "MUEUQ5GWulmU",
        "colab": {
          "base_uri": "https://localhost:8080/"
        },
        "outputId": "f48977cb-8125-40ca-a1c4-1648f1069b88"
      },
      "execution_count": 34,
      "outputs": [
        {
          "output_type": "stream",
          "name": "stdout",
          "text": [
            "Llamando método SET nombre\n",
            "\n",
            "\n",
            "LLamando método SET apellido\n",
            "Llamando método SET edad\n",
            "Persona: Marco Isaac, Olmedo Guevara 30\n"
          ]
        }
      ]
    },
    {
      "cell_type": "code",
      "source": [
        "# from Persona import Persona #Del archivo persona importa la clase o módulo \"Persona\"\n",
        "'''Cuando ejecutamos el siguiente comando: print(__name__) y nos devuelve __main__ significa\n",
        "que este código es el programa principal a ejecutar y será el que se ejecutará en producción.\n",
        "\n",
        "He ahí la famosa if(__name__)=__main__ si es positivo, se ejecutará el código del archivo en el que estamos trabajando\n",
        "\n",
        "persona1.mostrar_detalle()'''\n"
      ],
      "metadata": {
        "colab": {
          "base_uri": "https://localhost:8080/",
          "height": 73
        },
        "id": "8hxvkzW9oI9i",
        "outputId": "0085d675-d197-4624-e0e1-362406c18e19"
      },
      "execution_count": 35,
      "outputs": [
        {
          "output_type": "execute_result",
          "data": {
            "text/plain": [
              "'Cuando ejecutamos el siguiente comando: print(__name__) y nos devuelve __main__ significa\\nque este código es el programa principal a ejecutar y será el que se ejecutará en producción.\\n \\nHe ahí la famosa if(__name__)=__main__ si es positivo, se ejecutará el código del archivo en el que estamos trabajando\\n\\npersona1.mostrar_detalle()'"
            ],
            "application/vnd.google.colaboratory.intrinsic+json": {
              "type": "string"
            }
          },
          "metadata": {},
          "execution_count": 35
        }
      ]
    },
    {
      "cell_type": "code",
      "source": [
        "print('Creación de objetos'.center(50,'*'))\n",
        "'''El modificador .center() primero recibe el número de caracteres con los cuales quiero centrar\n",
        "y  el segundo es con que carácter quieres que se rellenen esos espacios.'''\n",
        "persona1.mostrar_detalle()\n",
        "print('\\n')\n",
        "print('Eliminación de objetos'.center(50,'*'))\n",
        "del persona1"
      ],
      "metadata": {
        "colab": {
          "base_uri": "https://localhost:8080/"
        },
        "id": "yLlT-gVHsSXL",
        "outputId": "28511923-302c-4cc4-e5c0-d6c46ce6ca92"
      },
      "execution_count": 36,
      "outputs": [
        {
          "output_type": "stream",
          "name": "stdout",
          "text": [
            "***************Creación de objetos****************\n",
            "Persona: Marco Isaac, Olmedo Guevara 30\n",
            "\n",
            "\n",
            "**************Eliminación de objetos**************\n"
          ]
        }
      ]
    }
  ]
}
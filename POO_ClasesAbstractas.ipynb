{
  "nbformat": 4,
  "nbformat_minor": 0,
  "metadata": {
    "colab": {
      "provenance": []
    },
    "kernelspec": {
      "name": "python3",
      "display_name": "Python 3"
    },
    "language_info": {
      "name": "python"
    }
  },
  "cells": [
    {
      "cell_type": "markdown",
      "source": [
        "Un método abstracto en una clase padre obliga a las clases hijas a implementar este futuro método, lo malo es que no podremos crear objetos de esa clase padre o instanciar."
      ],
      "metadata": {
        "id": "8-odXfrx6oxq"
      }
    },
    {
      "cell_type": "code",
      "source": [
        "#ABC= Abstract Base Class\n",
        "from abc import ABC, abstractmethod\n",
        "\n",
        "class FiguraGeometrica(ABC):\n",
        "\n",
        "  def __init__(self, ancho, alto):\n",
        "    if self._validar_valor(ancho):\n",
        "      self._ancho=ancho\n",
        "    else:\n",
        "      print(\"Ingresaste un valor negativo, se trabajará con un valor 0\")\n",
        "      self._ancho=0\n",
        "    if self._validar_valor(alto):\n",
        "      self._alto=alto\n",
        "    else:\n",
        "      print(\"Ingresaste un valor negativo, se trabajará con un valor 0\")\n",
        "      self._alto=0\n",
        "\n",
        "  @property #Método GET\n",
        "  def ancho(self):\n",
        "    print(\"Llamando método GET ancho\")\n",
        "    return self._ancho\n",
        "\n",
        "  @ancho.setter #Método SET\n",
        "  def ancho(self, ancho):\n",
        "    print(\"Llamando método SET ancho\")\n",
        "    self._ancho=ancho\n",
        "\n",
        "  @property #Método GET\n",
        "  def alto(self):\n",
        "    print(\"Llamando método GET alto\")\n",
        "    return self._alto\n",
        "\n",
        "  @alto.setter #Método SET\n",
        "  def alto(self, alto):\n",
        "    print(\"Llamando método SET alto\")\n",
        "    self._alto=alto\n",
        "\n",
        "  def _validar_valor(self,valor): #Este método es interno, para evitar que se ingresen números negativos\n",
        "    return True if valor>0 else False\n",
        "\n",
        "  def __str__(self):\n",
        "    return f'Figura geométrica de ancho: {self._ancho} y alto de: {self._alto} unidades'\n",
        "\n",
        "class Color(object):\n",
        "\n",
        "  def __init__(self, color):\n",
        "    self._color=color\n",
        "\n",
        "  @property #Método GET\n",
        "  def color(self):\n",
        "    print(\"Llamando al metodo GET color\")\n",
        "    return self._color\n",
        "\n",
        "  @color.setter #Método SET\n",
        "  def color(self, color):\n",
        "    print('Llamando al método SET color')\n",
        "    self._color=color\n",
        "\n",
        "  def __str__(self):\n",
        "    return f'Color {self._color}'\n",
        "\n",
        "  @abstractmethod\n",
        "  def calcular_area(self):\n",
        "    pass\n",
        "\n",
        "class Cuadrado(FiguraGeometrica, Color):\n",
        "\n",
        "  def __init__(self, lado, color):\n",
        "    self._lado=lado\n",
        "    self._color=color\n",
        "    # super().__init__(color) Cuando es herencia múltiple, hay que evitar esta sintaxis\n",
        "    FiguraGeometrica.__init__(self, lado, lado) #Así ya inicializamos los atributos de la clase padre\n",
        "    Color.__init__(self, color) #Inicializamos la segunda clase padre.\n",
        "\n",
        "  def calcular_area(self):\n",
        "    area=self._ancho*self._alto #Accedemos a los atributos de la clase padre FiguraGeometrica\n",
        "    return f'El área es de: {area}' #Imprimimos el área\n",
        "\n",
        "  @property #Método GET\n",
        "  def lado(self):\n",
        "    print(\"Llamando al método GET lado\")\n",
        "    return self._lado\n",
        "\n",
        "  @lado.setter #Método SET\n",
        "  def lado(self, lado):\n",
        "    print('Llamando al método SET lado')\n",
        "    self._lado=lado\n",
        "\n",
        "  @property #Método GET\n",
        "  def color(self):\n",
        "    print(\"Llamando al método GET color\")\n",
        "    return self._color\n",
        "\n",
        "  @lado.setter #Método SET\n",
        "  def color(self, color):\n",
        "    print('Llamando al método SET color')\n",
        "    self._color=color\n",
        "\n",
        "  def __str__(self):\n",
        "    return f'Cuadrado de lado de {self._lado} unidades y de color {self._color}'\n",
        "\n",
        "class Rectangulo(FiguraGeometrica, Color):\n",
        "\n",
        "  def __init__(self, alto, ancho, color):\n",
        "    self._ancho=ancho\n",
        "    self._alto=alto\n",
        "    self._color=color\n",
        "    FiguraGeometrica.__init__(self, ancho, alto) #Así ya inicializamos los atributos de la clase padre\n",
        "    Color.__init__(self, color) #Inicializamos la segunda clase padre.\n",
        "\n",
        "  @property #Método GET\n",
        "  def ancho(self):\n",
        "    print(\"Llamando método GET ancho\")\n",
        "    return self._ancho\n",
        "\n",
        "  @ancho.setter #Método SET\n",
        "  def ancho(self, ancho):\n",
        "    print(\"Llamando método SET ancho\")\n",
        "    self._ancho=ancho\n",
        "\n",
        "  @property #Método GET\n",
        "  def alto(self):\n",
        "    print(\"Llamando método GET alto\")\n",
        "    return self._alto\n",
        "\n",
        "  @alto.setter #Método SET\n",
        "  def alto(self, alto):\n",
        "    print(\"Llamando método SET alto\")\n",
        "    self._alto=alto\n",
        "\n",
        "  def calcular_area(self):\n",
        "    area=self._ancho*self._alto\n",
        "    self._area=area\n",
        "    return f'Área de: {self._area} unidades cuadradas' #Imprimimos el área.\n",
        "\n",
        "  def __str__(self):\n",
        "    return f'Rectangulo de ancho {self._ancho} y de alto {self._alto} unidades con color {self._color}'\n",
        "\n",
        "\n"
      ],
      "metadata": {
        "id": "0747W6qKKJqv"
      },
      "execution_count": 16,
      "outputs": []
    },
    {
      "cell_type": "code",
      "source": [
        "cuadrado1=Cuadrado(23,'Azul')\n",
        "rectangulo1=Rectangulo(5,6,'Verde')\n",
        "print(cuadrado1)\n",
        "print(rectangulo1)\n",
        "print(cuadrado1.ancho)\n",
        "print(cuadrado1.lado)\n",
        "print(rectangulo1.alto)\n",
        "print(rectangulo1.color)\n",
        "print('\\n')\n",
        "print(cuadrado1.calcular_area())\n",
        "print(rectangulo1.calcular_area())"
      ],
      "metadata": {
        "colab": {
          "base_uri": "https://localhost:8080/"
        },
        "id": "h8xSiZit5MGy",
        "outputId": "5fa68831-1259-49c2-89dd-abc9a89387f8"
      },
      "execution_count": 17,
      "outputs": [
        {
          "output_type": "stream",
          "name": "stdout",
          "text": [
            "Cuadrado de lado de 23 unidades y de color Azul\n",
            "Rectangulo de ancho 6 y de alto 5 unidades con color Verde\n",
            "Llamando método GET ancho\n",
            "23\n",
            "Llamando al método GET lado\n",
            "23\n",
            "Llamando método GET alto\n",
            "5\n",
            "Llamando al metodo GET color\n",
            "Verde\n",
            "\n",
            "\n",
            "El área es de: 529\n",
            "Área de: 30 unidades cuadradas\n"
          ]
        }
      ]
    },
    {
      "cell_type": "code",
      "source": [
        "print(Cuadrado.mro())"
      ],
      "metadata": {
        "id": "61Z-sAUt8wcg",
        "colab": {
          "base_uri": "https://localhost:8080/"
        },
        "outputId": "dd3a5da5-4609-4a47-db0e-a245e9cf237f"
      },
      "execution_count": 18,
      "outputs": [
        {
          "output_type": "stream",
          "name": "stdout",
          "text": [
            "[<class '__main__.Cuadrado'>, <class '__main__.FiguraGeometrica'>, <class 'abc.ABC'>, <class '__main__.Color'>, <class 'object'>]\n"
          ]
        }
      ]
    }
  ]
}
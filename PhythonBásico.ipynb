{
  "nbformat": 4,
  "nbformat_minor": 0,
  "metadata": {
    "colab": {
      "provenance": []
    },
    "kernelspec": {
      "name": "python3",
      "display_name": "Python 3"
    },
    "language_info": {
      "name": "python"
    }
  },
  "cells": [
    {
      "cell_type": "code",
      "execution_count": null,
      "metadata": {
        "id": "pIbqbKZynqIz"
      },
      "outputs": [],
      "source": [
        "##Variables: Almacenan información de manera temporal (Cualquier tipo de dato)"
      ]
    },
    {
      "cell_type": "code",
      "source": [
        "miVariable=\"Hola mundo\"\n",
        "print(miVariable)\n",
        "miVariable=15\n",
        "print(miVariable)\n",
        "#No es necesario indicar el tipo de variable que voy a utilizar.\n",
        "#Se pueden cambiar el valor de las varibables\n",
        "#Las variables se almacenan en una dirección de memoria RAM"
      ],
      "metadata": {
        "colab": {
          "base_uri": "https://localhost:8080/"
        },
        "id": "av8vZVubnyWc",
        "outputId": "c97d3a96-768b-4577-9799-a3815cf5af4b"
      },
      "execution_count": null,
      "outputs": [
        {
          "output_type": "stream",
          "name": "stdout",
          "text": [
            "Hola mundo\n",
            "15\n"
          ]
        }
      ]
    },
    {
      "cell_type": "code",
      "source": [
        "x=10\n",
        "y=2\n",
        "z=x+y\n",
        "print(x)\n",
        "print(y)\n",
        "print(z)\n",
        "print(id(x)) #Dirección de memoria RAM donde está almacendo el valor de 'x'"
      ],
      "metadata": {
        "colab": {
          "base_uri": "https://localhost:8080/"
        },
        "id": "TJBvi3gRn6rE",
        "outputId": "4ff2583d-25ae-435e-8ea9-f6c70f1ca4ed"
      },
      "execution_count": null,
      "outputs": [
        {
          "output_type": "stream",
          "name": "stdout",
          "text": [
            "10\n",
            "2\n",
            "12\n",
            "140611728333392\n"
          ]
        }
      ]
    },
    {
      "cell_type": "code",
      "source": [
        "#EJERCICO DE VARIABLES\n",
        "nombre=\"José Olmedo\"\n",
        "telefono='5512345678'\n",
        "mail=\"josomedo@mail.com\"\n",
        "print(nombre)\n",
        "print(telefono)\n",
        "print(mail)"
      ],
      "metadata": {
        "colab": {
          "base_uri": "https://localhost:8080/"
        },
        "id": "qBsvY2VNo69l",
        "outputId": "44c2f1a2-c2f1-4050-843e-71bd8a6dd373"
      },
      "execution_count": null,
      "outputs": [
        {
          "output_type": "stream",
          "name": "stdout",
          "text": [
            "José Olmedo\n",
            "5512345678\n",
            "josomedo@mail.com\n"
          ]
        }
      ]
    },
    {
      "cell_type": "code",
      "source": [
        "#TIPOS DE DATOS EN PYTHON\n",
        "#Numericos: Interger, Complex number, float\n",
        "#Dictonary\n",
        "#Boolean\n",
        "#Set\n",
        "#Sequence Type: Strings, List, Tuple"
      ],
      "metadata": {
        "id": "vSWN1e_Jo6zT"
      },
      "execution_count": null,
      "outputs": []
    },
    {
      "cell_type": "code",
      "source": [
        "x=10\n",
        "y=\"Hola a todos\"\n",
        "z=10.5\n",
        "w=True\n",
        "print(type(x)) #Nos dice el tipo de dato de una variable\n",
        "print(type(y))\n",
        "print(type(z))\n",
        "print(type(w))"
      ],
      "metadata": {
        "colab": {
          "base_uri": "https://localhost:8080/"
        },
        "id": "dmGQRt2AqJNH",
        "outputId": "26a6c85e-1659-45c4-d800-bebbe996fd7a"
      },
      "execution_count": null,
      "outputs": [
        {
          "output_type": "stream",
          "name": "stdout",
          "text": [
            "<class 'int'>\n",
            "<class 'str'>\n",
            "<class 'float'>\n",
            "<class 'bool'>\n"
          ]
        }
      ]
    },
    {
      "cell_type": "code",
      "source": [
        "#MANEJO DE CADENAS\n",
        "miGrupoFavorito=\"Aerosmith\"\n",
        "comentario=\"(la mejor banda de rock)\"\n",
        "#Concatenación\n",
        "print(\"Mi grupo favorito es: \" + miGrupoFavorito +\" \"+ comentario)\n",
        "print(\"Mi grupo favorito es:\", miGrupoFavorito, comentario) #Nótese que no hay espacio entre los dos puntos\n",
        "print(\"Mi grupo favorito es:\", miGrupoFavorito +\" \"+ comentario)"
      ],
      "metadata": {
        "colab": {
          "base_uri": "https://localhost:8080/"
        },
        "id": "MgWjxM97yJRe",
        "outputId": "69e906d5-e01c-468e-88f3-d6d2c06f0f4f"
      },
      "execution_count": null,
      "outputs": [
        {
          "output_type": "stream",
          "name": "stdout",
          "text": [
            "Mi grupo favorito es: Aerosmith (la mejor banda de rock)\n",
            "Mi grupo favorito es: Aerosmith (la mejor banda de rock)\n",
            "Mi grupo favorito es: Aerosmith (la mejor banda de rock)\n"
          ]
        }
      ]
    },
    {
      "cell_type": "code",
      "source": [
        "#Conversión de tipo de dato\n",
        "numero1=\"1\"\n",
        "numero2=\"2\"\n",
        "print(\"Suma:\",int(numero1)+int(numero2))"
      ],
      "metadata": {
        "colab": {
          "base_uri": "https://localhost:8080/"
        },
        "id": "1uCFUXbNzOFF",
        "outputId": "318f2589-7dd3-46da-ab38-931cafa7d8e3"
      },
      "execution_count": null,
      "outputs": [
        {
          "output_type": "stream",
          "name": "stdout",
          "text": [
            "Suma: 3\n"
          ]
        }
      ]
    },
    {
      "cell_type": "code",
      "source": [
        "#Tipos bool (bolean)\n",
        "miVariable=False\n",
        "print(miVariable)\n",
        "\n",
        "miVariable=1<2\n",
        "print(miVariable)\n",
        "\n",
        "if miVariable is False:  #is actúa como \"es\"\n",
        "  print(\"El resultado fue falso\")\n",
        "else:\n",
        "  print(\"El resultado fue verdero\")"
      ],
      "metadata": {
        "colab": {
          "base_uri": "https://localhost:8080/"
        },
        "id": "uMl_5Znc1lcC",
        "outputId": "48de0bcd-52e3-4820-ce40-0bbc880bec84"
      },
      "execution_count": null,
      "outputs": [
        {
          "output_type": "stream",
          "name": "stdout",
          "text": [
            "False\n",
            "True\n",
            "El resultado fue verdero\n"
          ]
        }
      ]
    },
    {
      "cell_type": "code",
      "source": [
        "#Procesar la entrada de usuario (función input)\n",
        "#La función input regresa una CADENA\n",
        "resultado=input(\"Por favor ingresa algo: \")\n",
        "print(\"Lo que ingresaste es:\", resultado)"
      ],
      "metadata": {
        "colab": {
          "base_uri": "https://localhost:8080/"
        },
        "id": "dE3drgN_1zv6",
        "outputId": "7c7c6b48-3cff-4959-da0b-c5d35e44b3b9"
      },
      "execution_count": null,
      "outputs": [
        {
          "output_type": "stream",
          "name": "stdout",
          "text": [
            "Por favor ingresa algo: 56\n",
            "Lo que ingresaste es: 56\n"
          ]
        }
      ]
    },
    {
      "cell_type": "code",
      "source": [
        "#Continuación....\n",
        "numero1=float(input(\"Ingresa el primer número: \"))\n",
        "numero2=float(input(\"Ingresa el segundo número: \"))\n",
        "print(\"La suma de ambos números es:\",numero1+numero2)"
      ],
      "metadata": {
        "colab": {
          "base_uri": "https://localhost:8080/"
        },
        "id": "1e3t_fzN4R_w",
        "outputId": "daf462cd-60ed-486f-b4c0-1e6585c2870a"
      },
      "execution_count": null,
      "outputs": [
        {
          "output_type": "stream",
          "name": "stdout",
          "text": [
            "Ingresa el primer número: 69.52\n",
            "Ingresa el segundo número: 45.259\n",
            "La suma de ambos números es: 114.779\n"
          ]
        }
      ]
    },
    {
      "cell_type": "code",
      "source": [
        "#Ejercicio \"Califica tu día\"\n",
        "calificacion=int(input(\"¿Cómo estuvo tu día? (1 al 10): \"))\n",
        "print(\"Tu día estuvo de: \"+str(calificacion))\n"
      ],
      "metadata": {
        "colab": {
          "base_uri": "https://localhost:8080/"
        },
        "id": "75qrKfvB2u4C",
        "outputId": "76da67fb-223c-4342-dd72-36323b0d8eac"
      },
      "execution_count": null,
      "outputs": [
        {
          "output_type": "stream",
          "name": "stdout",
          "text": [
            "¿Cómo estuvo tu día? (1 al 10): 10\n",
            "Tu día estuvo de: 10\n"
          ]
        }
      ]
    },
    {
      "cell_type": "code",
      "source": [
        "#Ejercicio \"Datos del libro\"\n",
        "titulo=input(\"Proprcione el título del libro: \")\n",
        "autor=input(\"Proporcione el autor del libro: \")\n",
        "print(titulo,\"fue escrito por\",autor)"
      ],
      "metadata": {
        "colab": {
          "base_uri": "https://localhost:8080/"
        },
        "id": "bcukbCHK5Xuy",
        "outputId": "96230c4c-79b0-442e-d711-828b5d142485"
      },
      "execution_count": null,
      "outputs": [
        {
          "output_type": "stream",
          "name": "stdout",
          "text": [
            "Proprcione el título del libro: El amor en los tiempos de cólera\n",
            "Proporcione el autor del libro: Gabriel García Márquez\n",
            "El amor en los tiempos de cólera fue escrito por Gabriel García Márquez\n"
          ]
        }
      ]
    },
    {
      "cell_type": "code",
      "source": [
        "#OPERADORES ARITMÉTICOS\n",
        "#Suma: +\n",
        "#Resta: -\n",
        "#Multiplicación: *\n",
        "#División: /\n",
        "#División de tipo entero: //\n",
        "#Exponenciación: **\n",
        "#Módulo: %\n",
        "operandoA=float(input(\"Ingresa un número: \"))\n",
        "operandoB=float(input(\"Ingresa otro número: \"))\n",
        "\n",
        "suma=operandoA+operandoB\n",
        "resta=operandoA-operandoB\n",
        "multiplicacion=operandoA*operandoB\n",
        "division=operandoA/operandoB\n",
        "divisionEntera=operandoA//operandoB\n",
        "exponenciacion=operandoA**operandoB\n",
        "modulo=operandoA%operandoB\n",
        "\n",
        "print(f'El resultado de la suma es: {suma} unidades')#Nueva forma de imprimir información\n",
        "print(f'El resultado de la resta es: {resta} unidades')\n",
        "print(f'El resultado de la multipliacion es: {multiplicacion} unidades')\n",
        "print(f'El resultado de la división es: {division} unidades')\n",
        "print(f'El resultado de la división entera es: {divisionEntera} unidades')  #Nótese que se trunca\n",
        "print(f'El resultado de la exponenciacion es: {exponenciacion} unidades')\n",
        "print(f'El resultado del módulo es: {modulo} unidades')"
      ],
      "metadata": {
        "colab": {
          "base_uri": "https://localhost:8080/"
        },
        "id": "5gI918sv6EL4",
        "outputId": "6c97911c-0c14-49f1-c600-3e4598990b9c"
      },
      "execution_count": null,
      "outputs": [
        {
          "output_type": "stream",
          "name": "stdout",
          "text": [
            "Ingresa un número: 3.14\n",
            "Ingresa otro número: 5\n",
            "El resultado de la suma es: 8.14 unidades\n",
            "El resultado de la resta es: -1.8599999999999999 unidades\n",
            "El resultado de la multipliacion es: 15.700000000000001 unidades\n",
            "El resultado de la división es: 0.628 unidades\n",
            "El resultado de la división entera es: 0.0 unidades\n",
            "El resultado de la exponenciacion es: 305.2447761824001 unidades\n",
            "El resultado del módulo es: 3.14 unidades\n"
          ]
        }
      ]
    },
    {
      "cell_type": "code",
      "source": [
        "#Ejercicio propuesto\n",
        "#Calcular el área y perímetro de un rectángulo\n",
        "\"\"\"Las triples comillas\n",
        "te permiten\n",
        "agregar comentarios de multiples\n",
        "lineas\"\"\"\n",
        "print(\"Programa para calcular el área y perimetro de un rectángulo\")\n",
        "alto=float(input(\"Ingresa el alto: \"))\n",
        "ancho=float(input(\"Ingresa el ancho: \"))\n",
        "area=alto*ancho\n",
        "perimetro=alto+ancho\n",
        "print(f'El área del rectángulo es de: {area} unidades cuadradas')\n",
        "print(f'El perímetro del rectángulo es de: {perimetro} unidades')"
      ],
      "metadata": {
        "colab": {
          "base_uri": "https://localhost:8080/"
        },
        "id": "6DGAg32y8ICS",
        "outputId": "940a28df-01d2-4966-8bb8-c9c28322b886"
      },
      "execution_count": null,
      "outputs": [
        {
          "output_type": "stream",
          "name": "stdout",
          "text": [
            "Programa para calcular el área y perimetro de un rectángulo\n",
            "Ingresa el alto: 5\n",
            "Ingresa el ancho: 5\n",
            "El área del rectángulo es de: 25.0 unidades cuadradas\n",
            "El perímetro del rectángulo es de: 10.0 unidades\n"
          ]
        }
      ]
    },
    {
      "cell_type": "code",
      "source": [
        "#Ejercicio número par o impar\n",
        "numero=int(input(\"Ingrese un número: \"))\n",
        "numero=numero%2\n",
        "if numero==0:\n",
        "  print(\"El número que ingresaste es par\")\n",
        "else:\n",
        "  print(\"El número que ingresaste es impar\")"
      ],
      "metadata": {
        "colab": {
          "base_uri": "https://localhost:8080/"
        },
        "id": "DvAeMt5G-lEL",
        "outputId": "008cbde1-d050-453e-dd69-6c4eeb1595be"
      },
      "execution_count": null,
      "outputs": [
        {
          "output_type": "stream",
          "name": "stdout",
          "text": [
            "Ingrese un número: 100000\n",
            "El número que ingresaste es par\n"
          ]
        }
      ]
    },
    {
      "cell_type": "code",
      "source": [
        "#Ejercicio determinar si eres mayor de a\n",
        "edad=int(input(\"Ingresa tu edad porfavor: \"))\n",
        "if edad>=18:\n",
        "  print(\"Eres mayor de edad, puedes pasar\")\n",
        "else:\n",
        "  print(\"No eres mayor de edad, no puedes pasar\")"
      ],
      "metadata": {
        "colab": {
          "base_uri": "https://localhost:8080/"
        },
        "id": "ouE6LvWM_qnA",
        "outputId": "605f1973-5f46-4942-9b88-cd49c2d0dbd2"
      },
      "execution_count": null,
      "outputs": [
        {
          "output_type": "stream",
          "name": "stdout",
          "text": [
            "Ingresa tu edad porfavor: 22\n",
            "Eres mayor de edad, puedes pasar\n"
          ]
        }
      ]
    },
    {
      "cell_type": "code",
      "source": [
        "#OPERADORES LÓGICOS\n",
        "\"\"\"\n",
        "and: Devuelve True si ambos operandos son True\n",
        "or: Devuelve True si alguno de los operandos es True\n",
        "not: Devuelve True si alguno de los operandos es False (invierte valor: not a)\n",
        "\"\"\"\n",
        "a=False\n",
        "b=True\n",
        "resultado=not a\n",
        "print(resultado)"
      ],
      "metadata": {
        "colab": {
          "base_uri": "https://localhost:8080/"
        },
        "id": "2vuLEJt9AFXY",
        "outputId": "a692547b-c462-49b8-e455-8d0021b7b56e"
      },
      "execution_count": null,
      "outputs": [
        {
          "output_type": "stream",
          "name": "stdout",
          "text": [
            "True\n"
          ]
        }
      ]
    },
    {
      "cell_type": "code",
      "source": [
        "#Ejercicio valor dentro de rango (and)\n",
        "\"\"\"\n",
        "Pedir valor y decir se encuentra dentro del rango de 0 al 5 \"\"\"\n",
        "valor=float(input(\"Ingrese un valor: \"))\n",
        "if valor>=0 and valor<=5:\n",
        "  print(f'El valor {valor} se encuentra dentro del rango de 0 a 5')\n",
        "else:\n",
        "  print(f'El valor {valor} no se encuentra dentro del rango de 0 a 5')"
      ],
      "metadata": {
        "colab": {
          "base_uri": "https://localhost:8080/"
        },
        "id": "w7MGcugwBf_D",
        "outputId": "29ff907a-48c0-4555-8eac-6d76bc24a846"
      },
      "execution_count": null,
      "outputs": [
        {
          "output_type": "stream",
          "name": "stdout",
          "text": [
            "Ingrese un valor: -5\n",
            "El valor -5.0 no se encuentra dentro del rango de 0 a 5\n"
          ]
        }
      ]
    },
    {
      "cell_type": "code",
      "source": [
        "#Ejercicio operador or\n",
        "\"\"\"Asistir al juego del hijo\"\"\"\n",
        "vacaciones=input(\"¿Estás de vacaciones? (Ingrese S/N): \")\n",
        "descanso=input(\"Es un día de descanso (Ingrese S/N): \")\n",
        "#Validación\n",
        "if vacaciones=='S':\n",
        "  vacaciones=True\n",
        "else:\n",
        "  vaciones=False\n",
        "if descanso=='S':\n",
        "  descanso=True\n",
        "else:\n",
        "  descanso==False\n",
        "#Uso de 'or'\n",
        "if vacaciones or descanso:\n",
        "  print(\"Puedes asistir al juego de tu hijo\")\n",
        "else:\n",
        "  print(\"No puedes asistir al juego de tu hijo\")\n"
      ],
      "metadata": {
        "colab": {
          "base_uri": "https://localhost:8080/"
        },
        "id": "TRYrixF_C2R6",
        "outputId": "80b9eda1-3723-4e73-de94-0c2a9d24acfe"
      },
      "execution_count": null,
      "outputs": [
        {
          "output_type": "stream",
          "name": "stdout",
          "text": [
            "¿Estás de vacaciones? (Ingrese S/N): N\n",
            "Es un día de descanso (Ingrese S/N): S\n",
            "Puedes asistir al juego de tu hijo\n"
          ]
        }
      ]
    },
    {
      "cell_type": "code",
      "source": [
        "#Ahora con operador not\n",
        "if not(vacaciones or descanso):\n",
        "  print(\"No puedes asistir al juego de tu hijo\")\n",
        "else:\n",
        "  print(\"Puedes asistir al juego de tu hijo\")"
      ],
      "metadata": {
        "colab": {
          "base_uri": "https://localhost:8080/"
        },
        "id": "P_LrqSf_DqOT",
        "outputId": "f23dc165-184c-49bc-9dd0-f4fe087efdff"
      },
      "execution_count": null,
      "outputs": [
        {
          "output_type": "stream",
          "name": "stdout",
          "text": [
            "Puedes asistir al juego de tu hijo\n"
          ]
        }
      ]
    },
    {
      "cell_type": "code",
      "source": [
        "#Otro ejercicio usando operadores lógicos\n",
        "\"\"\"Rango dentro de 20 ó 30 años\"\"\"\n",
        "edad=int(input(\"Ingresa tu edad: \"))\n",
        "if edad>=20 and edad<=30:\n",
        "  print(\"Estas dentro del rango de 20 a 30\")\n",
        "else:\n",
        "  print(\"No estás dentro del rango de 20 a 30\")"
      ],
      "metadata": {
        "colab": {
          "base_uri": "https://localhost:8080/"
        },
        "id": "N1Kr9TW8FVTz",
        "outputId": "322f52a9-bc74-40b2-a1d0-9f3f43e64d7b"
      },
      "execution_count": null,
      "outputs": [
        {
          "output_type": "stream",
          "name": "stdout",
          "text": [
            "Ingresa tu edad: 31\n",
            "No estás dentro del rango de 20 a 30\n"
          ]
        }
      ]
    },
    {
      "cell_type": "code",
      "source": [
        "#Ejercicio mayor de dos números\n",
        "numero1=float(input(\"Ingresa el primer número: \"))\n",
        "numero2=float(input(\"Ingresa el segundo número: \"))\n",
        "if numero1<numero2:\n",
        "  print(f'El número mayor es: {numero2}')\n",
        "elif numero1>numero2:\n",
        "  print(f'El número mayor es: {numero1}')\n",
        "else:\n",
        "  print(f'El número {numero1} es exactamente igual al {numero2}')"
      ],
      "metadata": {
        "colab": {
          "base_uri": "https://localhost:8080/"
        },
        "id": "NixczMzbFr45",
        "outputId": "47775fd4-68f7-477f-97c3-7c35f039150b"
      },
      "execution_count": null,
      "outputs": [
        {
          "output_type": "stream",
          "name": "stdout",
          "text": [
            "Ingresa el primer número: 12.58\n",
            "Ingresa el segundo número: 12.57\n",
            "El número mayor es: 12.58\n"
          ]
        }
      ]
    },
    {
      "cell_type": "code",
      "source": [
        "\"\"\"Realice un progrma que pida los siguientes datos\n",
        "de un libro:\n",
        "Nombre\n",
        "ID\n",
        "Precio\n",
        "Indicar si el envío es gratuito\n",
        "y lo imprima en pantalla\n",
        "\"\"\"\n",
        "nombre=input(\"Ingrese el nombre del libro: \")\n",
        "ID=input(\"Ingrese el ID del libro: \")\n",
        "precio=float(input(\"Ingrese el precio del libro (MXN): \"))\n",
        "envio=input(\"¿El libro cuenta con envío gratuito? (S/N): \")\n",
        "print(f'Nombre: {nombre}')\n",
        "print(f'Precio: {precio}')\n",
        "print(f'ID: {ID}')\n",
        "if envio=='S':\n",
        "  print('¿Envío gratuito?: Sí')\n",
        "else:\n",
        "  print('¿Envío gratuito?: No')"
      ],
      "metadata": {
        "colab": {
          "base_uri": "https://localhost:8080/"
        },
        "id": "5mMMr7aVGrTk",
        "outputId": "850260ce-5caa-41fe-84b6-b212dc3fa90d"
      },
      "execution_count": null,
      "outputs": [
        {
          "output_type": "stream",
          "name": "stdout",
          "text": [
            "Ingrese el nombre del libro: Programación con Python\n",
            "Ingrese el ID del libro: 433123\n",
            "Ingrese el precio del libro (MXN): 250\n",
            "¿El libro cuenta con envío gratuito? (S/N): N\n",
            "Nombre: Programación con Python\n",
            "Precio: 250.0\n",
            "ID: 433123\n",
            "¿Envío gratuito?: No\n"
          ]
        }
      ]
    },
    {
      "cell_type": "code",
      "source": [
        "#Ejercico estación del año según el mes\n",
        "mes=int(input(\"Ingresa el mes del año en el que estamos (1-12): \"))\n",
        "if mes==1 or mes==2 or mes==12:\n",
        "  print(\"Estamos en invierno\")\n",
        "elif mes==3 or mes==4 or mes==5:\n",
        "  print(\"Estamos en primavera\")\n",
        "elif mes==6 or mes==7 or mes==8:\n",
        "  print(\"Estamos en verano\")\n",
        "elif mes==9 or mes==10 or mes==11:\n",
        "  print(\"Estamos en otoño\")\n",
        "else:\n",
        "  print(\"No ingresaste un mes valido\")"
      ],
      "metadata": {
        "colab": {
          "base_uri": "https://localhost:8080/"
        },
        "id": "bTJmpCiRNVF5",
        "outputId": "c16ba518-22ea-4b62-b53f-98a23be6d288"
      },
      "execution_count": null,
      "outputs": [
        {
          "output_type": "stream",
          "name": "stdout",
          "text": [
            "Ingresa el mes del año en el que estamos (1-12): 5\n",
            "Estamos en primavera\n"
          ]
        }
      ]
    },
    {
      "cell_type": "code",
      "source": [
        "#Ejercicio etapas de la vida\n",
        "edad=int(input(\"Ingresa tu edad: \"))\n",
        "if edad>=0 and edad<=10:\n",
        "  print(\"La infancia es increible\")\n",
        "elif edad>10 and edad<=20:\n",
        "  print(\"Muchos cambios y mucho estudio\")\n",
        "elif edad>20 and edad<=30:\n",
        "  print(\"Amor y comienza el trabajo\")\n",
        "elif edad>30:\n",
        "  print(\"Eres un hombre maduro\")\n",
        "else:\n",
        "  print(\"Ingresaste una edad no válida\")"
      ],
      "metadata": {
        "colab": {
          "base_uri": "https://localhost:8080/"
        },
        "id": "rQZEltwoQL-O",
        "outputId": "437fe135-43a4-4902-aa98-17178d556895"
      },
      "execution_count": null,
      "outputs": [
        {
          "output_type": "stream",
          "name": "stdout",
          "text": [
            "Ingresa tu edad: -98\n",
            "Ingresaste una edad no válida\n"
          ]
        }
      ]
    },
    {
      "cell_type": "code",
      "source": [
        "#Ejercicio sistema de calificaciones\n",
        "\"\"\"\n",
        "Crear sistema de calificaciones, ingresar valor entre 0 y 10\n",
        "Si está entre 9 y 10: A\n",
        "Si está entre 8 y menor a 9: B\n",
        "Si está entre 7 y menor a 8: C\n",
        "Si está entre 6 y menor a 7: D\n",
        "Si está entre 0 y menor a 6: F\n",
        "Cualquier otro valor debe imprimir: Valor incorrecto\n",
        "Ejemplo:\n",
        "Ingresa tu califcación: 8.5\n",
        "Tu nota es: B\n",
        "\"\"\"\n",
        "##############################################\n",
        "calificacion=float(input(\"Ingresa tu calificación: \"))\n",
        "if calificacion==10 and calificacion>=9:\n",
        "  print(\"Tu nota es: A\")\n",
        "elif calificacion<9 and calificacion>=8:\n",
        "  print(\"Tu nota es: B\")\n",
        "elif calificacion<8 and calificacion>=7:\n",
        "  print(\"Tu nota es: C\")\n",
        "elif calificacion<7 and calificacion>=6:\n",
        "  print(\"Tu nota es: D\")\n",
        "elif calificacion<6:\n",
        "  print(\"Tu nota es: F\")\n",
        "else:\n",
        "  print(\"Valor incorrecto\")"
      ],
      "metadata": {
        "colab": {
          "base_uri": "https://localhost:8080/"
        },
        "id": "WtvOmZvBRatz",
        "outputId": "7c77dd90-1a8c-4181-a3b5-257188a24d91"
      },
      "execution_count": null,
      "outputs": [
        {
          "output_type": "stream",
          "name": "stdout",
          "text": [
            "Ingresa tu calificación: 11\n",
            "Valor incorrecto\n"
          ]
        }
      ]
    },
    {
      "cell_type": "code",
      "source": [
        "#Ciclo While\n",
        "\"\"\"Mientras una condición sea 'True' se ejecutará indefinidamente\n",
        "Si se cambia durante el ciclo a 'False', se terminará el ciclo\n",
        "\"\"\"\n",
        "ciclo=True\n",
        "contador=0\n",
        "while ciclo:\n",
        "  contador=contador+1\n",
        "  if contador==10:\n",
        "    ciclo=False\n",
        "  print(contador)"
      ],
      "metadata": {
        "colab": {
          "base_uri": "https://localhost:8080/"
        },
        "id": "wwhxe6MCTI3q",
        "outputId": "28b132dc-33a4-42d9-e37e-b651cbb91903"
      },
      "execution_count": null,
      "outputs": [
        {
          "output_type": "stream",
          "name": "stdout",
          "text": [
            "1\n",
            "2\n",
            "3\n",
            "4\n",
            "5\n",
            "6\n",
            "7\n",
            "8\n",
            "9\n",
            "10\n"
          ]
        }
      ]
    },
    {
      "cell_type": "code",
      "source": [
        "#Ejercicio While descendente\n",
        "ciclo=True\n",
        "contador=5\n",
        "print(contador)\n",
        "while ciclo:\n",
        "  contador=contador-1\n",
        "  if contador==0:\n",
        "    ciclo=False\n",
        "  print(contador)"
      ],
      "metadata": {
        "colab": {
          "base_uri": "https://localhost:8080/"
        },
        "id": "Jw1QVYmuUiUc",
        "outputId": "b6455810-ee12-48b4-f82c-e8306cacc86c"
      },
      "execution_count": null,
      "outputs": [
        {
          "output_type": "stream",
          "name": "stdout",
          "text": [
            "5\n",
            "4\n",
            "3\n",
            "2\n",
            "1\n",
            "0\n"
          ]
        }
      ]
    },
    {
      "cell_type": "code",
      "source": [
        "#Ciclo For en python\n",
        "\n",
        "\"\"\"Este programa recorre cada letra en la cadena\"\"\"\n",
        "cadena=\"Hola\"\n",
        "contador=0\n",
        "for letra in cadena:\n",
        "  contador+=1\n",
        "  print(contador)"
      ],
      "metadata": {
        "colab": {
          "base_uri": "https://localhost:8080/"
        },
        "id": "8li14MHKVi8h",
        "outputId": "3e7c0586-d013-4700-83d4-6026fad91670"
      },
      "execution_count": null,
      "outputs": [
        {
          "output_type": "stream",
          "name": "stdout",
          "text": [
            "1\n",
            "2\n",
            "3\n",
            "4\n"
          ]
        }
      ]
    },
    {
      "cell_type": "code",
      "source": [
        "#Palabra break interrumpe el ciclo\n",
        "for letra in \"Holanda\":\n",
        "  if letra=='a':\n",
        "    print(f'Letra encontrada: {letra}')\n",
        "    break\n",
        "  else:\n",
        "    print('Letra aún no encontrada')"
      ],
      "metadata": {
        "id": "AQ4BpkqtWTB6",
        "colab": {
          "base_uri": "https://localhost:8080/"
        },
        "outputId": "4c78adcb-96fb-49f9-c838-dbb036715243"
      },
      "execution_count": null,
      "outputs": [
        {
          "output_type": "stream",
          "name": "stdout",
          "text": [
            "Letra aún no encontrada\n",
            "Letra aún no encontrada\n",
            "Letra aún no encontrada\n",
            "Letra encontrada: a\n"
          ]
        }
      ]
    },
    {
      "cell_type": "code",
      "source": [
        "#Palabra continue"
      ],
      "metadata": {
        "id": "tMWKcx6XrcNL"
      },
      "execution_count": null,
      "outputs": []
    },
    {
      "cell_type": "code",
      "source": [
        "#Listas siempre se definen entre corchetes: perros=[]\n",
        "nombres=['José', 'Marco', 'Isaac', 'Angélica', 'Mike','Wilson','Ron','Han','Paulie']\n",
        "#Acceder a algun elemento es con el índice\n",
        "print(nombres[0])\n",
        "print(nombres[1])\n",
        "print(nombres[2])\n",
        "print(nombres[3])\n",
        "print(\"\")\n",
        "print(\"Ahora de manera inversa:\")\n",
        "print(\"\")\n",
        "#Acceder a los elementos de manera inversa\n",
        "print(nombres[-1])\n",
        "print(nombres[-2])\n",
        "print(nombres[-3])\n",
        "print(nombres[-4])"
      ],
      "metadata": {
        "colab": {
          "base_uri": "https://localhost:8080/"
        },
        "id": "6DzcYHxq16sX",
        "outputId": "e51c62fd-0b13-4078-a7db-254db7f359da"
      },
      "execution_count": null,
      "outputs": [
        {
          "output_type": "stream",
          "name": "stdout",
          "text": [
            "José\n",
            "Marco\n",
            "Isaac\n",
            "Angélica\n",
            "\n",
            "Ahora de manera inversa:\n",
            "\n",
            "Paulie\n",
            "Han\n",
            "Ron\n",
            "Wilson\n"
          ]
        }
      ]
    },
    {
      "cell_type": "code",
      "source": [
        "#Acceder a un rango de valores de una lista\n",
        "print(nombres[0:4]) #Accede desde el índice 0 hasta el 3 sin tocar el 4\n",
        "\n",
        "#Del inicio de la lista hasta un índice sin tocarlo\n",
        "print(nombres[:5])\n",
        "\n",
        "#Del índice hasta el final de la lista\n",
        "print(nombres[2:])"
      ],
      "metadata": {
        "colab": {
          "base_uri": "https://localhost:8080/"
        },
        "id": "P2El64ms5p4N",
        "outputId": "d7e90439-e425-473a-83fd-0bc89c9e1578"
      },
      "execution_count": null,
      "outputs": [
        {
          "output_type": "stream",
          "name": "stdout",
          "text": [
            "['José', 'Marco', 'Isaac', 'Angélica']\n",
            "['José', 'Marco', 'Isaac', 'Angélica', 'Mike']\n",
            "['Isaac', 'Angélica', 'Mike', 'Wilson', 'Ron', 'Han', 'Paulie']\n"
          ]
        }
      ]
    },
    {
      "cell_type": "code",
      "source": [
        "#Cambiar un valor de la lista\n",
        "nombres[0]='Angel'\n",
        "print(nombres[0])\n"
      ],
      "metadata": {
        "id": "CY8HWAI48DLM",
        "colab": {
          "base_uri": "https://localhost:8080/"
        },
        "outputId": "42ecfc46-7843-4ae0-9589-b4a435b88872"
      },
      "execution_count": null,
      "outputs": [
        {
          "output_type": "stream",
          "name": "stdout",
          "text": [
            "Angel\n"
          ]
        }
      ]
    },
    {
      "cell_type": "code",
      "source": [
        "#Recorrer una lista\n",
        "i=0\n",
        "for nombre in nombres:\n",
        "  print(f\"Este es el nombre número {i} de la lista: {nombre}\")\n",
        "  i+=1"
      ],
      "metadata": {
        "colab": {
          "base_uri": "https://localhost:8080/"
        },
        "id": "_pvxoDinJ4c4",
        "outputId": "a9b5e89f-894c-4559-bd1f-22eea7805f20"
      },
      "execution_count": null,
      "outputs": [
        {
          "output_type": "stream",
          "name": "stdout",
          "text": [
            "Este es el nombre número 0 de la lista: Angel\n",
            "Este es el nombre número 1 de la lista: Marco\n",
            "Este es el nombre número 2 de la lista: Isaac\n",
            "Este es el nombre número 3 de la lista: Angélica\n",
            "Este es el nombre número 4 de la lista: Mike\n",
            "Este es el nombre número 5 de la lista: Wilson\n",
            "Este es el nombre número 6 de la lista: Ron\n",
            "Este es el nombre número 7 de la lista: Han\n",
            "Este es el nombre número 8 de la lista: Paulie\n"
          ]
        }
      ]
    },
    {
      "cell_type": "code",
      "source": [
        "#Pedir el largo de una lista\n",
        "Largo=len(nombres)\n",
        "print(Largo,'\\n')\n",
        "\n",
        "#Agregar elemento a una lista:\n",
        "\n",
        "nombres.append('Mariano')\n",
        "nombres.append('Gato')\n",
        "print(nombres, \"\\n\")\n",
        "\n",
        "\n",
        "#Insertar elementos en un índice específico\n",
        "nombres.insert(4, 'Robbie')\n",
        "print(nombres, '\\n')\n",
        "\n",
        "#Eliminar elementos de una lista por valor\n",
        "nombres.remove('Gato')\n",
        "print(nombres, '\\n')\n",
        "\n",
        "#Eliminar el ultimo elemento (Aquí se elimina 'Feo)\n",
        "nombres.append('Feo')\n",
        "nombres.pop()\n",
        "print(nombres, '\\n')\n",
        "\n",
        "#Eliminar elemento por indice\n",
        "nombres.append('Tonto')\n",
        "del nombres[-1]\n",
        "print(nombres, '\\n')\n",
        "\n",
        "#Limpiar lista\n",
        "nombres.clear()\n",
        "print(nombres, '\\n')\n",
        "\n",
        "#Borrar lista por completo\n",
        "del nombres\n",
        "#print(nombres)\n"
      ],
      "metadata": {
        "colab": {
          "base_uri": "https://localhost:8080/"
        },
        "id": "QgtIowmCNo8t",
        "outputId": "fe3b67ac-2a8c-44f6-9ec7-29949223554d"
      },
      "execution_count": null,
      "outputs": [
        {
          "output_type": "stream",
          "name": "stdout",
          "text": [
            "9 \n",
            "\n",
            "['Angel', 'Marco', 'Isaac', 'Angélica', 'Mike', 'Wilson', 'Ron', 'Han', 'Paulie', 'Mariano', 'Gato'] \n",
            "\n",
            "['Angel', 'Marco', 'Isaac', 'Angélica', 'Robbie', 'Mike', 'Wilson', 'Ron', 'Han', 'Paulie', 'Mariano', 'Gato'] \n",
            "\n",
            "['Angel', 'Marco', 'Isaac', 'Angélica', 'Robbie', 'Mike', 'Wilson', 'Ron', 'Han', 'Paulie', 'Mariano'] \n",
            "\n",
            "['Angel', 'Marco', 'Isaac', 'Angélica', 'Robbie', 'Mike', 'Wilson', 'Ron', 'Han', 'Paulie', 'Mariano'] \n",
            "\n",
            "['Angel', 'Marco', 'Isaac', 'Angélica', 'Robbie', 'Mike', 'Wilson', 'Ron', 'Han', 'Paulie', 'Mariano'] \n",
            "\n",
            "[] \n",
            "\n"
          ]
        }
      ]
    },
    {
      "cell_type": "code",
      "source": [
        "#Ejercicios de rango\n",
        "'''Sintaxis de range(inicio<opcional>, fin<obligatorio>, incremento<opcional>)'''\n",
        "#Ejercicio 1: Iterar en un rango de 0 a 10 e imprimir numeros divisibles entre 3\n",
        "for i in range(0,11,1):\n",
        "  if i%3==0:\n",
        "    print(f\"El número {i} es divisible entre 3\")\n",
        "#Ejercicio 2: Crear un rango de números de 4 al 122 e imprimirlos con paso de 5 en 5\n",
        "print(\"\")\n",
        "for i in range(4,122,5):\n",
        "  print(i)\n"
      ],
      "metadata": {
        "colab": {
          "base_uri": "https://localhost:8080/"
        },
        "id": "97q_Q2KuNvj0",
        "outputId": "a2509d26-e814-4b64-d8cb-4ad6a602c42d"
      },
      "execution_count": null,
      "outputs": [
        {
          "output_type": "stream",
          "name": "stdout",
          "text": [
            "El número 0 es divisible entre 3\n",
            "El número 3 es divisible entre 3\n",
            "El número 6 es divisible entre 3\n",
            "El número 9 es divisible entre 3\n",
            "\n",
            "4\n",
            "9\n",
            "14\n",
            "19\n",
            "24\n",
            "29\n",
            "34\n",
            "39\n",
            "44\n",
            "49\n",
            "54\n",
            "59\n",
            "64\n",
            "69\n",
            "74\n",
            "79\n",
            "84\n",
            "89\n",
            "94\n",
            "99\n",
            "104\n",
            "109\n",
            "114\n",
            "119\n"
          ]
        }
      ]
    },
    {
      "cell_type": "code",
      "source": [
        "#TUPLAS son muy parecidas a las listas pero son de caracter inmutable\n",
        "animales=('Perro', 'Gato', 'Tigre', 'Oso', 'Leopardo', 'Pericos', 'Guacamayas')\n",
        "print(animales, '\\n')\n",
        "\n",
        "#Longitud de una tupla\n",
        "print(len(animales), '\\n')\n",
        "\n",
        "#Acedder a un elemento en particular\n",
        "print(animales[1], '\\n')\n",
        "\n",
        "#Recorrer una tupla\n",
        "for animal in animales:\n",
        "  print(animal, end=', ')  #El end indica como queremos que se imprima el siguiente elemento, por defecto es '\\n'\n",
        "print('\\n')\n",
        "\n",
        "#Acceder a un rango de valores\n",
        "print(animales[2:5])"
      ],
      "metadata": {
        "colab": {
          "base_uri": "https://localhost:8080/"
        },
        "id": "ttgZ9FNjbagW",
        "outputId": "65e3f782-6bb6-4bfe-f8a3-f39b525decc4"
      },
      "execution_count": null,
      "outputs": [
        {
          "output_type": "stream",
          "name": "stdout",
          "text": [
            "('Perro', 'Gato', 'Tigre', 'Oso', 'Leopardo', 'Pericos', 'Guacamayas') \n",
            "\n",
            "7 \n",
            "\n",
            "Gato \n",
            "\n",
            "Perro, Gato, Tigre, Oso, Leopardo, Pericos, Guacamayas, \n",
            "\n",
            "('Tigre', 'Oso', 'Leopardo')\n"
          ]
        }
      ]
    },
    {
      "cell_type": "code",
      "source": [
        "#De tupla a lista\n",
        "ListaAnimales=list(animales)\n",
        "print(ListaAnimales, '\\n')\n",
        "\n",
        "#De lista a tupla\n",
        "TuplaAnimales=tuple(ListaAnimales)\n",
        "print(TuplaAnimales)"
      ],
      "metadata": {
        "colab": {
          "base_uri": "https://localhost:8080/"
        },
        "id": "Gg0JNz5FdiUE",
        "outputId": "1f46681b-7d9c-416c-d90c-f7d019a18d83"
      },
      "execution_count": null,
      "outputs": [
        {
          "output_type": "stream",
          "name": "stdout",
          "text": [
            "['Perro', 'Gato', 'Tigre', 'Oso', 'Leopardo', 'Pericos', 'Guacamayas'] \n",
            "\n",
            "('Perro', 'Gato', 'Tigre', 'Oso', 'Leopardo', 'Pericos', 'Guacamayas')\n"
          ]
        }
      ]
    },
    {
      "cell_type": "code",
      "source": [
        "#Ejercicios de tuplas\n",
        "''' Dada la siguiente tupla crear una lista de números menores a 5 '''\n",
        "MiTupla=(13,1,8,3,2,5,8)\n",
        "\n",
        "MiLista=[]\n",
        "for numeros in MiTupla:\n",
        "  if numeros<5:\n",
        "    MiLista.append(numeros)\n",
        "print(MiLista)\n"
      ],
      "metadata": {
        "colab": {
          "base_uri": "https://localhost:8080/"
        },
        "id": "ZJ12GpXedmij",
        "outputId": "6b223426-cd41-46f3-a7ef-5c7d5a4743c5"
      },
      "execution_count": null,
      "outputs": [
        {
          "output_type": "stream",
          "name": "stdout",
          "text": [
            "[1, 3, 2]\n"
          ]
        }
      ]
    },
    {
      "cell_type": "code",
      "source": [
        "#Set no tiene un orden, no permite almacenar elementos duplicados, tampoco es posible modificarlos pero si es posible agregar más elementos\n",
        "\n",
        "planetas={'Mecurio', 'Venus', 'Tierra', 'Marte', 'Júpiter', 'Saturno', 'Urano', 'Neptuno','Plutón'}\n",
        "print(planetas, '\\n')\n",
        "\n",
        "#Largo\n",
        "print(len(planetas), '\\n')\n",
        "\n",
        "#Revisar si un elemento está presente\n",
        "print('Tierra' in planetas, '\\n')\n",
        "\n",
        "#Añadir elementos\n",
        "planetas.add('Wilsonio')\n",
        "print(planetas, '\\n')\n",
        "\n",
        "#Eliminar elementos\n",
        "planetas.remove('Wilsonio')\n",
        "print(planetas, '\\n')\n",
        "\n",
        "#Limpiar set\n",
        "planetas.clear()\n",
        "print(planetas, '\\n')\n",
        "\n",
        "#Borrar set\n",
        "del planetas"
      ],
      "metadata": {
        "colab": {
          "base_uri": "https://localhost:8080/"
        },
        "id": "J0uNi2IGfgGf",
        "outputId": "02f99a34-8a75-4a2e-fe10-0693fd71aaee"
      },
      "execution_count": null,
      "outputs": [
        {
          "output_type": "stream",
          "name": "stdout",
          "text": [
            "{'Venus', 'Tierra', 'Marte', 'Neptuno', 'Júpiter', 'Mecurio', 'Saturno', 'Plutón', 'Urano'} \n",
            "\n",
            "9 \n",
            "\n",
            "True \n",
            "\n",
            "{'Venus', 'Tierra', 'Marte', 'Neptuno', 'Wilsonio', 'Júpiter', 'Mecurio', 'Saturno', 'Plutón', 'Urano'} \n",
            "\n",
            "{'Venus', 'Tierra', 'Marte', 'Neptuno', 'Júpiter', 'Mecurio', 'Saturno', 'Plutón', 'Urano'} \n",
            "\n",
            "set() \n",
            "\n"
          ]
        }
      ]
    },
    {
      "cell_type": "code",
      "source": [
        "#DICCIONARIOS\n",
        "'''Tienen una estructura de llave:valor'''\n",
        "diccionario={\n",
        "    'IDE': 'Integrated Development Environment',\n",
        "    'OOP': 'Object Oriented Programming',\n",
        "    'API': 'Application Programming Interface',\n",
        "    'BD': 'Base de Datos',\n",
        "    'HTML': 'HyperText Markup Language',\n",
        "    'CSS': 'Cascading Style Sheets',\n",
        "    'DBMS': 'Database Management System',\n",
        "    'SQL': 'Structured Query Language',\n",
        "    'JS': 'JavaScript',\n",
        "}\n",
        "print(diccionario, '\\n')\n",
        "\n",
        "#Largo\n",
        "print(len(diccionario), '\\n')\n",
        "\n",
        "#Acceder a un elemento por clave\n",
        "print(diccionario['IDE'], '\\n')\n",
        "#Otra forma\n",
        "print(diccionario.get('DBMS'), '\\n')\n",
        "\n",
        "#Modificar elementos\n",
        "diccionario['IDE']='integrated development environment'\n",
        "print(diccionario, '\\n')\n",
        "\n",
        "#Agregar elementos\n",
        "diccionario['Py']='Python'\n",
        "\n",
        "print(diccionario, '\\n')\n",
        "\n",
        "#Eliminar elementos\n",
        "del diccionario['OOP']\n",
        "diccionario.pop('API')\n",
        "print(diccionario, '\\n')\n",
        "\n",
        "#Recorrer un diccionario\n",
        "for clave,valor in diccionario.items():\n",
        "  print(clave,': ',valor)\n",
        "\n",
        "print('')\n",
        "\n",
        "#Solo llaves\n",
        "for clave in diccionario.keys():\n",
        "  print(clave, end=', ')\n",
        "\n",
        "print('')\n",
        "\n",
        "#Solo valores\n",
        "for valor in diccionario.values():\n",
        "  print(valor, end=', ')\n",
        "\n",
        "print('\\n')\n",
        "\n",
        "#Verificar si hay algun elemento\n",
        "print('IDE' in diccionario)\n",
        "\n",
        "#Limpiar diccionario\n",
        "diccionario.clear()\n",
        "print('\\n', diccionario, '\\n')\n",
        "\n",
        "#Borrar diccionario\n",
        "del diccionario\n",
        "\n"
      ],
      "metadata": {
        "colab": {
          "base_uri": "https://localhost:8080/"
        },
        "id": "QU0Mx9-QjvJq",
        "outputId": "85ec51c4-6544-4f0b-add1-5d24f60a81d6"
      },
      "execution_count": null,
      "outputs": [
        {
          "output_type": "stream",
          "name": "stdout",
          "text": [
            "{'IDE': 'Integrated Development Environment', 'OOP': 'Object Oriented Programming', 'API': 'Application Programming Interface', 'BD': 'Base de Datos', 'HTML': 'HyperText Markup Language', 'CSS': 'Cascading Style Sheets', 'DBMS': 'Database Management System', 'SQL': 'Structured Query Language', 'JS': 'JavaScript'} \n",
            "\n",
            "9 \n",
            "\n",
            "Integrated Development Environment \n",
            "\n",
            "Database Management System \n",
            "\n",
            "{'IDE': 'integrated development environment', 'OOP': 'Object Oriented Programming', 'API': 'Application Programming Interface', 'BD': 'Base de Datos', 'HTML': 'HyperText Markup Language', 'CSS': 'Cascading Style Sheets', 'DBMS': 'Database Management System', 'SQL': 'Structured Query Language', 'JS': 'JavaScript'} \n",
            "\n",
            "{'IDE': 'integrated development environment', 'OOP': 'Object Oriented Programming', 'API': 'Application Programming Interface', 'BD': 'Base de Datos', 'HTML': 'HyperText Markup Language', 'CSS': 'Cascading Style Sheets', 'DBMS': 'Database Management System', 'SQL': 'Structured Query Language', 'JS': 'JavaScript', 'Py': 'Python'} \n",
            "\n",
            "{'IDE': 'integrated development environment', 'BD': 'Base de Datos', 'HTML': 'HyperText Markup Language', 'CSS': 'Cascading Style Sheets', 'DBMS': 'Database Management System', 'SQL': 'Structured Query Language', 'JS': 'JavaScript', 'Py': 'Python'} \n",
            "\n",
            "IDE :  integrated development environment\n",
            "BD :  Base de Datos\n",
            "HTML :  HyperText Markup Language\n",
            "CSS :  Cascading Style Sheets\n",
            "DBMS :  Database Management System\n",
            "SQL :  Structured Query Language\n",
            "JS :  JavaScript\n",
            "Py :  Python\n",
            "\n",
            "IDE, BD, HTML, CSS, DBMS, SQL, JS, Py, \n",
            "integrated development environment, Base de Datos, HyperText Markup Language, Cascading Style Sheets, Database Management System, Structured Query Language, JavaScript, Python, \n",
            "\n",
            "True\n",
            "\n",
            " {} \n",
            "\n"
          ]
        }
      ]
    },
    {
      "cell_type": "code",
      "source": [
        "#Funciones en Python\n",
        "\n",
        "#Crear una función\n",
        "def miFuncion():\n",
        "  print('Hola')\n",
        "\n",
        "miFuncion()\n",
        "\n",
        "#Argunemntos en una función\n",
        "def Saludar(nombre,apellido):\n",
        "  print(f'Hola {nombre} {apellido}')\n",
        "\n",
        "#Primero=input('Ingresa tu nombre: ')\n",
        "#Segundo=input('Ingresa tu apellido: ')\n",
        "print('')\n",
        "Saludar('Primero','Segundo')\n",
        "\n",
        "def suma(a=2,b=7):\n",
        "  return a+b\n",
        "\n",
        "#Sin argumentos\n",
        "print('')\n",
        "print(suma())\n",
        "#Con argumentos\n",
        "print('')\n",
        "print(suma(5,3))\n",
        "\n",
        "\n"
      ],
      "metadata": {
        "id": "VMz60w6ZoKJV",
        "colab": {
          "base_uri": "https://localhost:8080/"
        },
        "outputId": "de18658d-7715-4100-c548-4cf59cbc90f5"
      },
      "execution_count": null,
      "outputs": [
        {
          "output_type": "stream",
          "name": "stdout",
          "text": [
            "Hola\n",
            "\n",
            "Hola Primero Segundo\n",
            "\n",
            "9\n",
            "\n",
            "8\n"
          ]
        }
      ]
    },
    {
      "cell_type": "code",
      "source": [
        "#Funciones las cuales no sabemos cuantos argumentos queremos pasar\n",
        "def listarNombres(*nombres): #De manera interna esto va a ser una tupla\n",
        "  for nombre in nombres:\n",
        "    print(f'Hola {nombre}', end=', ')\n",
        "  print('\\n')\n",
        "\n",
        "listarNombres('José','Marco','Isaac','Angélica','Mike','Ron','Han','Wilson','Paulie','Robbie','Mariano')\n",
        "\n",
        "'''Ejercicio de funciones: Creaar una función que sume n números'''\n",
        "\n",
        "def sumarNumeros(*numeros):\n",
        "  resultado=0\n",
        "  for numero in numeros:\n",
        "    resultado=numero+resultado\n",
        "  return(f'La suma de los números que ingresaste es: {resultado}')\n",
        "\n",
        "sumarNumeros(5,2,33,40)\n",
        "#Video 77"
      ],
      "metadata": {
        "colab": {
          "base_uri": "https://localhost:8080/",
          "height": 70
        },
        "id": "9QEYdZoHPSBA",
        "outputId": "52a8d48d-8eb9-4e91-d8c9-059db4172a5e"
      },
      "execution_count": null,
      "outputs": [
        {
          "output_type": "stream",
          "name": "stdout",
          "text": [
            "Hola José, Hola Marco, Hola Isaac, Hola Angélica, Hola Mike, Hola Ron, Hola Han, Hola Wilson, Hola Paulie, Hola Robbie, Hola Mariano, \n",
            "\n"
          ]
        },
        {
          "output_type": "execute_result",
          "data": {
            "text/plain": [
              "'La suma de los números que ingresaste es: 80'"
            ],
            "application/vnd.google.colaboratory.intrinsic+json": {
              "type": "string"
            }
          },
          "metadata": {},
          "execution_count": 21
        }
      ]
    },
    {
      "cell_type": "code",
      "source": [
        "#Funciones que acepten como argumentos diccionarios\n",
        "def ListarTerminos(**kwargs): #Así acepta elementos clave valor\n",
        "  for llave,valor in kwargs.items():\n",
        "    print(f'{llave}:{valor}')\n",
        "\n",
        "ListarTerminos(IDE='Integrated Development Environment', HTML='Hipertext Markup Language', SQL='Structured Query Language')\n",
        "\n",
        "#def funcionTodaRara(nombre, *args, **kwargs):\n"
      ],
      "metadata": {
        "colab": {
          "base_uri": "https://localhost:8080/"
        },
        "id": "_DR7ak83o4pW",
        "outputId": "d9d2b12b-a092-4563-c431-c912ddc148ed"
      },
      "execution_count": null,
      "outputs": [
        {
          "output_type": "stream",
          "name": "stdout",
          "text": [
            "IDE:Integrated Development Environment\n",
            "HTML:Hipertext Markup Language\n",
            "SQL:Structured Query Language\n"
          ]
        }
      ]
    },
    {
      "cell_type": "code",
      "source": [
        "def desplegarNombres(nombres):\n",
        "  for nombre in nombres:\n",
        "    print(nombre)\n",
        "\n",
        "nombres=['Pepe','Marco','Isaac\\n']\n",
        "desplegarNombres(nombres)\n",
        "desplegarNombres('Carlos')"
      ],
      "metadata": {
        "colab": {
          "base_uri": "https://localhost:8080/"
        },
        "id": "U5f_jWz-psq6",
        "outputId": "53c0d868-9d17-4ddd-a765-0634ba212595"
      },
      "execution_count": null,
      "outputs": [
        {
          "output_type": "stream",
          "name": "stdout",
          "text": [
            "Pepe\n",
            "Marco\n",
            "Isaac\n",
            "\n",
            "C\n",
            "a\n",
            "r\n",
            "l\n",
            "o\n",
            "s\n"
          ]
        }
      ]
    }
  ]
}
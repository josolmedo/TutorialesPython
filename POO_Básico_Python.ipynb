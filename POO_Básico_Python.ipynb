{
  "nbformat": 4,
  "nbformat_minor": 0,
  "metadata": {
    "colab": {
      "provenance": []
    },
    "kernelspec": {
      "name": "python3",
      "display_name": "Python 3"
    },
    "language_info": {
      "name": "python"
    }
  },
  "cells": [
    {
      "cell_type": "code",
      "source": [
        "#POO Python\n",
        "#Una clase es una \"Plantilla\" que posee atributos y métodos\n",
        "class Wilson: #Creamos una clase\n",
        "  pass  #No se va a procesar nada más y se creará este tipo de dato.\n",
        "\n",
        "print(type(Wilson))  #Imprimirá que es un tipo clase"
      ],
      "metadata": {
        "colab": {
          "base_uri": "https://localhost:8080/"
        },
        "id": "RdNaLHotspWI",
        "outputId": "bb5285ad-b5ca-410c-f775-5d474f92a8cc"
      },
      "execution_count": null,
      "outputs": [
        {
          "output_type": "stream",
          "name": "stdout",
          "text": [
            "<class 'type'>\n"
          ]
        }
      ]
    },
    {
      "cell_type": "code",
      "source": [
        "\"\"\"Para agregar características o atributos en una clase\n",
        "se emplea el método 'init' (inicializador)\n",
        "El parámetro self es una referencia al objeto en si mismo\n",
        "\"\"\"\n",
        "class Persona:  #Definimos clase persona, con varios atributos.\n",
        "  def __init__(self):\n",
        "    self.nombre='José'\n",
        "    self.apellido='Olmedo'\n",
        "    self.edad=22\n",
        "\n",
        "persona1=Persona() #Creamos un objeto y se manda a llamar el método __init__\n",
        "print(persona1.nombre)\n",
        "print(persona1.apellido)\n",
        "print(persona1.edad)"
      ],
      "metadata": {
        "colab": {
          "base_uri": "https://localhost:8080/"
        },
        "id": "I1t2kObEtL2t",
        "outputId": "a4f77b57-943c-4611-9b92-ca192500555e"
      },
      "execution_count": null,
      "outputs": [
        {
          "output_type": "stream",
          "name": "stdout",
          "text": [
            "José\n",
            "Olmedo\n",
            "22\n"
          ]
        }
      ]
    },
    {
      "cell_type": "code",
      "source": [
        "class Persona:  #Definimos clase persona, con varios atributos.\n",
        "  def __init__(self, nombre, apellido, edad):\n",
        "    self.nombre=nombre #Lado derecho son parametros, lado izquierdo es el atributo de nuestra clase\n",
        "    self.apellido=apellido\n",
        "    self.edad=edad\n",
        "\n",
        "persona1=Persona('José','Olmedo',22) #Creamos un objeto y se manda a llamar el método __init__\n",
        "print(f'Objeto Persona 1: {persona1.nombre} {persona1.apellido} {persona1.edad}')\n",
        "\"\"\"print(persona1.nombre)\n",
        "print(persona1.apellido)\n",
        "print(persona1.edad)   \"\"\"\n",
        "\n",
        "persona2=Persona('Marco', 'Olmedo', 17)\n",
        "print(f'Objeto Persona 2: {persona2.nombre} {persona2.apellido} {persona2.edad}')"
      ],
      "metadata": {
        "colab": {
          "base_uri": "https://localhost:8080/"
        },
        "id": "qO9P-g7Pyemp",
        "outputId": "de6b934e-c008-42a6-e196-61bb3d32cb9d"
      },
      "execution_count": null,
      "outputs": [
        {
          "output_type": "stream",
          "name": "stdout",
          "text": [
            "Objeto Persona 1: José Olmedo 22\n",
            "Objeto Persona 2: Marco Olmedo 17\n"
          ]
        }
      ]
    },
    {
      "cell_type": "code",
      "source": [
        "#Modificar atributos de un objeto\n",
        "persona1.nombre='Isaac'\n",
        "persona1.apellido='Campos'\n",
        "persona1.edad=52\n",
        "print(f'Objeto Persona 1: {persona1.nombre} {persona1.apellido} {persona1.edad}')"
      ],
      "metadata": {
        "colab": {
          "base_uri": "https://localhost:8080/"
        },
        "id": "qSs8ueo7zr-o",
        "outputId": "06f3469e-abc4-4475-f665-de08a390d91d"
      },
      "execution_count": null,
      "outputs": [
        {
          "output_type": "stream",
          "name": "stdout",
          "text": [
            "Objeto Persona 1: Isaac Campos 52\n"
          ]
        }
      ]
    },
    {
      "cell_type": "code",
      "source": [
        "#Agregar atributos a un objeto que no se establecieron en una clase\n",
        "persona1.telefono='123456789'\n",
        "print(persona1.telefono)\n",
        "\n",
        "'''Aquí mandaría un error porque el objeto persona2 no tiene\n",
        "teléfono:\n",
        "\n",
        "print(persona2.telefono)'''"
      ],
      "metadata": {
        "colab": {
          "base_uri": "https://localhost:8080/",
          "height": 53
        },
        "id": "CPLKSXO_YPm3",
        "outputId": "7bc3e9cb-ac1a-4b04-9925-74da8d74c748"
      },
      "execution_count": null,
      "outputs": [
        {
          "output_type": "stream",
          "name": "stdout",
          "text": [
            "123456789\n"
          ]
        },
        {
          "output_type": "execute_result",
          "data": {
            "text/plain": [
              "'Aquí mandaría un error porque el objeto persona2 no tiene \\nteléfono:\\n\\nprint(persona2.telefono)'"
            ],
            "application/vnd.google.colaboratory.intrinsic+json": {
              "type": "string"
            }
          },
          "metadata": {},
          "execution_count": 11
        }
      ]
    },
    {
      "cell_type": "code",
      "source": [
        "#Creación de métodos (Acciones que puede realizar un objeto)\n",
        "\n",
        "class Perro:\n",
        "  def __init__(self, nombre, raza):\n",
        "    self.nombre=nombre  #Atributo nombre\n",
        "    self.raza=raza     #Atributo raza\n",
        "\n",
        "  def ladrar(self):   #Método ladrar\n",
        "    print(\"¡Guau!\")\n",
        "\n",
        "  def saludar(self):  #Método saludar\n",
        "    print(\"¡Hola, soy un perro llamado\", self.nombre, \"de raza\", self.raza,\"!\")\n",
        "\n",
        "mi_perro=Perro(\"Wilson\", \"Beagle\")\n",
        "mi_perro.ladrar()\n",
        "mi_perro.saludar()\n",
        "print('\\n')\n",
        "\n",
        "#Otra forma de mostrar detalles\n",
        "Perro.ladrar(mi_perro)\n",
        "Perro.saludar(mi_perro)\n",
        "\n",
        "\n"
      ],
      "metadata": {
        "colab": {
          "base_uri": "https://localhost:8080/"
        },
        "id": "4YJmhZQqxfXn",
        "outputId": "43ae5d02-ad75-4569-90cd-1e9c364f4790"
      },
      "execution_count": null,
      "outputs": [
        {
          "output_type": "stream",
          "name": "stdout",
          "text": [
            "¡Guau!\n",
            "¡Hola, soy un perro llamado Wilson de raza Beagle !\n",
            "\n",
            "\n",
            "¡Guau!\n",
            "¡Hola, soy un perro llamado Wilson de raza Beagle !\n"
          ]
        }
      ]
    },
    {
      "cell_type": "code",
      "source": [
        "class autos:\n",
        "  def __init__(self, marca, velocidadMaxima, color, fechaDeFabricacion):\n",
        "    self.marca=marca\n",
        "    self.velocidadMaxima=velocidadMaxima\n",
        "    self.color=color\n",
        "    self.fechaDeFabricacion=fechaDeFabricacion\n",
        "\n",
        "  def acelerar(self):\n",
        "    print(\"Estoy acelerando\")\n",
        "\n",
        "  def frenar(self):\n",
        "    print(\"Estoy frenando\")\n",
        "\n",
        "  def reporte(self):\n",
        "    print(\"Soy un auto marca: \", self.marca, \"con una velocidad máxima de: \", self.velocidadMaxima, \"y un color: \", self.color)\n",
        "\n",
        "mi_auto=autos(\"Lamborgini\", 200, \"Azul\", 2024)\n",
        "auto_padre=autos(\"Ferrari\",190,\"Rojo\", 2023)\n",
        "mi_auto.acelerar()\n",
        "mi_auto.frenar()\n",
        "mi_auto.reporte()\n",
        "\n",
        "print('\\n')\n",
        "auto_padre.acelerar()\n",
        "auto_padre.frenar()\n",
        "auto_padre.reporte()"
      ],
      "metadata": {
        "id": "3fJtkQ0P2eAi",
        "colab": {
          "base_uri": "https://localhost:8080/"
        },
        "outputId": "c3430fb3-adfa-4656-ce84-3835f1f2b937"
      },
      "execution_count": null,
      "outputs": [
        {
          "output_type": "stream",
          "name": "stdout",
          "text": [
            "Estoy acelerando\n",
            "Estoy frenando\n",
            "Soy un auto marca:  Lamborgini con una velocidad máxima de:  200 y un color:  Azul\n",
            "\n",
            "\n",
            "Estoy acelerando\n",
            "Estoy frenando\n",
            "Soy un auto marca:  Ferrari con una velocidad máxima de:  190 y un color:  Rojo\n"
          ]
        }
      ]
    },
    {
      "cell_type": "code",
      "source": [
        "'''Ejercicio de artimética'''\n",
        "class Aritmetica:\n",
        "\n",
        "  def __init__(self,operandoA,operandoB):\n",
        "    self.operandoA=operandoA\n",
        "    self.operandoB=operandoB\n",
        "\n",
        "  def sumar(self):\n",
        "    resultado=self.operandoA+self.operandoB\n",
        "    print(f\"El resultado de sumar {self.operandoA}+{self.operandoB} es: {resultado}\")\n",
        "\n",
        "  def restar(self):\n",
        "    resultado=self.operandoA-self.operandoB\n",
        "    print(f\"El resultado de restar {self.operandoA}-{self.operandoB} es: {resultado}\")\n",
        "\n",
        "  def multiplicar(self):\n",
        "    resultado=self.operandoA*self.operandoB\n",
        "    print(f\"El resultado de multiplicar {self.operandoA}*{self.operandoB} es: {resultado}\")\n",
        "\n",
        "  def dividir(self):\n",
        "    resultado=self.operandoA/self.operandoB\n",
        "    print(f\"El resultado de dividir {self.operandoA}/{self.operandoB} es: {resultado}\")\n",
        "\n",
        "\n",
        "operacion=Aritmetica(23,18)\n",
        "\n",
        "operacion.sumar()\n",
        "operacion.restar()\n",
        "operacion.multiplicar()\n",
        "operacion.dividir()\n"
      ],
      "metadata": {
        "colab": {
          "base_uri": "https://localhost:8080/"
        },
        "id": "mK3sECo-cRlh",
        "outputId": "5b8b975b-eb37-45f4-ec56-f35684107217"
      },
      "execution_count": null,
      "outputs": [
        {
          "output_type": "stream",
          "name": "stdout",
          "text": [
            "El resultado de sumar 23+18 es: 41\n",
            "El resultado de restar 23-18 es: 5\n",
            "El resultado de multiplicar 23*18 es: 414\n",
            "El resultado de dividir 23/18 es: 1.2777777777777777\n"
          ]
        }
      ]
    },
    {
      "cell_type": "code",
      "source": [
        "'''Ejercicio area y perimetro de un rectangulo'''\n",
        "\n",
        "class PerimetroyArea:\n",
        "  def __init__(self, a, b):\n",
        "    self.a=a\n",
        "    self.b=b\n",
        "\n",
        "  def perimetro(self):\n",
        "    return ((2*self.a)+(2*self.b))\n",
        "\n",
        "  def area(self):\n",
        "    return (self.b)*(self.a)\n",
        "\n",
        "print('Este script calcula el perímetro y área de un rectangulo \\n')\n",
        "Base=float(input('Ingresa la longitud de la base: '))\n",
        "Altura=float(input('Ingresa la longitud de la altura: '))\n",
        "rectangulo=PerimetroyArea(Base,Altura)\n",
        "\n",
        "print(f'\\nEl perimetro es de {rectangulo.perimetro()} unidades.')\n",
        "print(f'El área es de {rectangulo.area()} unidades cuadradas.')"
      ],
      "metadata": {
        "colab": {
          "base_uri": "https://localhost:8080/"
        },
        "id": "ADKgAig2eC4v",
        "outputId": "eb702cff-4781-405a-9b43-c71dab77afff"
      },
      "execution_count": null,
      "outputs": [
        {
          "output_type": "stream",
          "name": "stdout",
          "text": [
            "Este script calcula el perímetro y área de un rectangulo \n",
            "\n",
            "Ingresa la longitud de la base: 40\n",
            "Ingresa la longitud de la altura: 20\n",
            "\n",
            "El perimetro es de 120.0 unidades.\n",
            "El área es de 800.0 unidades cuadradas.\n"
          ]
        }
      ]
    },
    {
      "cell_type": "code",
      "source": [
        "'''Ejercicio volumen, perimetro y area de un cubo'''\n",
        "\n",
        "class Cubo:\n",
        "  def __init__(self, lado):\n",
        "    self.lado=lado\n",
        "\n",
        "  def perimetro(self):\n",
        "    return self.lado*12\n",
        "\n",
        "  def area(self):\n",
        "    return self.lado*self.lado*6\n",
        "\n",
        "  def volumen(self):\n",
        "    return self.lado*self.lado*self.lado\n",
        "\n",
        "print('\\nEste script da el area, perimetro y volumen de un cubo')\n",
        "arista=float(input('Ingresa la longitud de una arista: '))\n",
        "cubo1=Cubo(arista)\n",
        "print(f'\\nEl perímetro es de {cubo1.perimetro()} unidades.')\n",
        "print(f'El área es de {cubo1.area()} unidades cuadradas.')\n",
        "print(f'El volumen es de {cubo1.volumen()} unidades cúbicas.')\n"
      ],
      "metadata": {
        "colab": {
          "base_uri": "https://localhost:8080/"
        },
        "id": "Z9l1k3aEgXNt",
        "outputId": "aa001154-d858-497c-dd11-4ba349ca330b"
      },
      "execution_count": null,
      "outputs": [
        {
          "output_type": "stream",
          "name": "stdout",
          "text": [
            "\n",
            "Este script da el area, perimetro y volumen de un cubo\n",
            "Ingresa la longitud de una arista: 5\n",
            "\n",
            "El perímetro es de 60.0 unidades.\n",
            "El área es de 150.0 unidades cuadradas.\n",
            "El volumen es de 125.0 unidades cúbicas.\n"
          ]
        }
      ]
    },
    {
      "cell_type": "code",
      "source": [
        "'''Robustecimiento del método __init__'''\n",
        "class Persona:  #Definimos clase persona, con varios atributos.\n",
        "  def __init__(self, nombre, apellido, edad, *args, **kwargs):\n",
        "    self.nombre=nombre\n",
        "    self.apellido=apellido\n",
        "    self.edad=edad\n",
        "    self.args=args\n",
        "    self.kwargs=kwargs\n",
        "\n",
        "  def mostrar_detalle(self):\n",
        "    print(f'Persona: {self.nombre}, {self.apellido} {self.edad} {self.args} {self.kwargs}')\n",
        "\n",
        "persona1=Persona('José', 'Olmedo', 23, '5560858564', 4, 5, 6, m='manzana', p='pera')\n",
        "persona1.mostrar_detalle()"
      ],
      "metadata": {
        "colab": {
          "base_uri": "https://localhost:8080/"
        },
        "id": "HtHgyJz9h7E8",
        "outputId": "d62461c6-4d78-4ff8-996a-81b278937ebf"
      },
      "execution_count": null,
      "outputs": [
        {
          "output_type": "stream",
          "name": "stdout",
          "text": [
            "Persona: José, Olmedo 23 ('5560858564', 4, 5, 6) {'m': 'manzana', 'p': 'pera'}\n"
          ]
        }
      ]
    }
  ]
}